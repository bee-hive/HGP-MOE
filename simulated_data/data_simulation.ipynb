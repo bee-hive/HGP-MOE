{
 "cells": [
  {
   "cell_type": "code",
   "execution_count": 1,
   "metadata": {},
   "outputs": [],
   "source": [
    "import gpflow\n",
    "import tensorflow as tf\n",
    "tf.config.run_functions_eagerly(True)\n",
    "\n",
    "\n",
    "import pandas as pd\n",
    "import numpy as np\n",
    "import matplotlib.pyplot as plt\n",
    "\n",
    "import warnings\n",
    "import os\n",
    "\n",
    "plt.style.use(\"ggplot\")\n",
    "warnings.filterwarnings('ignore')\n",
    "\n",
    "from gpflow.utilities import print_summary\n",
    "from gpflow.ci_utils import ci_niter\n",
    "\n",
    "gpflow.config.set_default_float(np.float64)\n",
    "gpflow.config.set_default_summary_fmt(\"notebook\")\n",
    "np.random.seed(0)\n",
    "%matplotlib inline\n",
    "\n",
    "MAXITER = ci_niter(2000)"
   ]
  },
  {
   "cell_type": "markdown",
   "metadata": {},
   "source": [
    "# Simulate Patient Trajectories with Group Structure"
   ]
  },
  {
   "cell_type": "markdown",
   "metadata": {},
   "source": [
    "## Parameters"
   ]
  },
  {
   "cell_type": "code",
   "execution_count": 21,
   "metadata": {},
   "outputs": [
    {
     "name": "stdout",
     "output_type": "stream",
     "text": [
      "alpha_g's [0.66257963 0.68428441 0.54579478 1.03442143]\n",
      "sigma_g's [0.87089962 0.74153763 1.19036074 0.75604002]\n"
     ]
    }
   ],
   "source": [
    "N = 40 # number of patients\n",
    "n_clusters = 4  # number of clusters\n",
    "\n",
    "# Group level parameters\n",
    "sigma_g = np.random.uniform(0.5, 1.2, n_clusters)\n",
    "alpha_g = np.random.uniform(0.5, 1.2, n_clusters)\n",
    "\n",
    "# Patient level parameters\n",
    "alpha_i = np.random.uniform(0.3, 2, N)\n",
    "sigma_i = np.random.uniform(0.3, 2, N)\n",
    "\n",
    "print(\"alpha_g's\", alpha_g)\n",
    "print(\"sigma_g's\", sigma_g)"
   ]
  },
  {
   "cell_type": "markdown",
   "metadata": {},
   "source": [
    "## Kernels"
   ]
  },
  {
   "cell_type": "code",
   "execution_count": 22,
   "metadata": {},
   "outputs": [],
   "source": [
    "Kg = []\n",
    "for i in range(n_clusters):\n",
    "    Kg.append(gpflow.kernels.Matern12(variance=sigma_g[i], lengthscales=alpha_g[i]))\n",
    "\n",
    "Kf = []\n",
    "for i in range(N):\n",
    "    Kf.append(gpflow.kernels.Matern52(variance=sigma_i[i], lengthscales=alpha_i[i]))"
   ]
  },
  {
   "cell_type": "markdown",
   "metadata": {},
   "source": [
    "## Generate $X, Y$"
   ]
  },
  {
   "cell_type": "code",
   "execution_count": 23,
   "metadata": {},
   "outputs": [],
   "source": [
    "X = [] \n",
    "Y = [] \n",
    "cluster_assignments_dict = dict()\n",
    "cluster_assignments_list = []\n",
    "\n",
    "for i in range(N):\n",
    "    M = np.random.randint(30, 40)\n",
    "    max_t = np.random.randint(15, 20)\n",
    "\n",
    "    x = np.linspace(0, max_t, M, endpoint=True)\n",
    "    dist = (x[1]-x[0])/4\n",
    "    x[1:] += np.random.uniform(-dist, dist, M-1)\n",
    "    X.append(x)\n",
    "    Sigma = Kf[i].K(np.expand_dims(X[i], 1))\n",
    "    cluster_id = [np.random.choice([0, 1]), np.random.choice([2, 3])]\n",
    "    cluster_assignments_dict[i] = cluster_id\n",
    "    if cluster_id == [0, 2]:\n",
    "        cluster_assignments_list.append(0)\n",
    "    elif cluster_id == [0, 3]:\n",
    "        cluster_assignments_list.append(1)\n",
    "    elif cluster_id == [1, 2]:\n",
    "        cluster_assignments_list.append(2)\n",
    "    elif cluster_id == [1, 3]:\n",
    "        cluster_assignments_list.append(3)\n",
    "\n",
    "\n",
    "    for g in np.random.choice(np.arange(4), size=2):\n",
    "        Sigma += Kg[g].K(np.expand_dims(X[i], 1))\n",
    "    \n",
    "    Y.append(np.random.multivariate_normal(mean=np.zeros(M), cov=Sigma, size=1).flatten())\n",
    "    \n",
    "for j in range(len(Y)):\n",
    "    noise = np.random.normal(0, 0.1, size=Y[j].shape)\n",
    "    Y[j] = Y[j] + noise"
   ]
  },
  {
   "cell_type": "markdown",
   "metadata": {},
   "source": [
    "### Save to file"
   ]
  },
  {
   "cell_type": "code",
   "execution_count": 27,
   "metadata": {},
   "outputs": [],
   "source": [
    "import pickle\n",
    "\n",
    "np.save('simulated_Y.npy', Y, allow_pickle=True)\n",
    "np.save('simulated_X.npy', X, allow_pickle=True)\n",
    "np.save('simulated_cluster_assignments_list.npy', cluster_assignments_list, allow_pickle=True)\n",
    "with open('simulated_cluster_assignments_dict.pkl', 'wb') as f:\n",
    "    pickle.dump(cluster_assignments_dict, f, pickle.HIGHEST_PROTOCOL)"
   ]
  },
  {
   "cell_type": "code",
   "execution_count": 26,
   "metadata": {},
   "outputs": [
    {
     "data": {
      "text/plain": [
       "Text(0.5, 1.0, 'Two sample patient trajectories')"
      ]
     },
     "execution_count": 26,
     "metadata": {},
     "output_type": "execute_result"
    },
    {
     "data": {
      "image/png": "[encoded data removed]",
      "text/plain": [
       "<Figure size 432x288 with 1 Axes>"
      ]
     },
     "metadata": {
      "needs_background": "light"
     },
     "output_type": "display_data"
    }
   ],
   "source": [
    "plt.plot(X[0], Y[0], \"kx\", mew=2, color='red', label='group 0')\n",
    "plt.plot(X[-1], Y[-1], \"kx\", mew=2, color='blue', label='group 3')\n",
    "plt.legend()\n",
    "plt.title('Two sample patient trajectories')"
   ]
  }
 ],
 "metadata": {
  "kernelspec": {
   "display_name": "Python 3",
   "language": "python",
   "name": "python3"
  },
  "language_info": {
   "codemirror_mode": {
    "name": "ipython",
    "version": 3
   },
   "file_extension": ".py",
   "mimetype": "text/x-python",
   "name": "python",
   "nbconvert_exporter": "python",
   "pygments_lexer": "ipython3",
   "version": "3.8.3"
  }
 },
 "nbformat": 4,
 "nbformat_minor": 4
}
